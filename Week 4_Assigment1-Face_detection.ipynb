{
 "cells": [
  {
   "cell_type": "code",
   "execution_count": 1,
   "metadata": {},
   "outputs": [],
   "source": [
    "import cv2\n",
    "import numpy as np"
   ]
  },
  {
   "cell_type": "code",
   "execution_count": 2,
   "metadata": {},
   "outputs": [],
   "source": [
    "import os"
   ]
  },
  {
   "cell_type": "code",
   "execution_count": 3,
   "metadata": {},
   "outputs": [],
   "source": [
    "#KNN Code\n",
    "def distance(v1,v2):\n",
    "    return np.sqrt(((v1-v2)**2).sum())\n",
    "\n",
    "def knn(train,test, k=3):\n",
    "    dist = []\n",
    "    \n",
    "    for i in range(train.shape[0]):\n",
    "        #Get the vector and label\n",
    "        ix = train[i, :-1]\n",
    "        iy = train[i, -1]\n",
    "        #Compute the distance from test point\n",
    "        d = distance(test,ix)\n",
    "        dist.append([d,iy])\n",
    "    #Sort based on distance and get top k\n",
    "    dk = sorted(dist, key=lambda x:x[0])[:k]\n",
    "    #Retrieve only the labels\n",
    "    labels = np.array(dk)[:, -1]\n",
    "    \n",
    "    #Get frequencies of each label\n",
    "    output = np.unique(labels, return_counts=True)\n",
    "    #Find max frequency and corresponding label\n",
    "    index = np.argmax(output[1])\n",
    "    return output[0][index]"
   ]
  },
  {
   "cell_type": "code",
   "execution_count": 4,
   "metadata": {},
   "outputs": [],
   "source": [
    "#Init Web Cam\n",
    "cap = cv2.VideoCapture(0)"
   ]
  },
  {
   "cell_type": "code",
   "execution_count": 5,
   "metadata": {},
   "outputs": [],
   "source": [
    "#Face Detection\n",
    "face_cascade = cv2.CascadeClassifier('haarcascade_frontalface_alt.xml')"
   ]
  },
  {
   "cell_type": "code",
   "execution_count": 6,
   "metadata": {},
   "outputs": [
    {
     "name": "stdout",
     "output_type": "stream",
     "text": [
      "(629, 10001)\n"
     ]
    }
   ],
   "source": [
    "#DATA Preparation\n",
    "class_id = 0 #Labels for the given file\n",
    "names = {} #mapping id with name\n",
    "dataset_path = 'data/'\n",
    "\n",
    "face_data = []\n",
    "labels = []\n",
    "\n",
    "for fx in os.listdir(dataset_path):\n",
    "    if fx.endswith('.npy'):\n",
    "        \n",
    "        #Create a mapping btw class_id and name\n",
    "        names[class_id] = fx[:-4]\n",
    "        \n",
    "        data_item = np.load(dataset_path+fx)\n",
    "        face_data.append(data_item)\n",
    "        \n",
    "        #create labels for the class\n",
    "        target = class_id * np.ones((data_item.shape[0],))\n",
    "        \n",
    "        class_id+=1\n",
    "        labels.append(target)\n",
    "        \n",
    "face_dataset = np.concatenate(face_data, axis=0)\n",
    "face_labels = np.concatenate(labels, axis=0).reshape((-1,1))\n",
    "\n",
    "train_set = np.concatenate((face_dataset,face_labels),axis=1)\n",
    "print(train_set.shape)\n",
    "\n",
    "#testing\n",
    "\n",
    "while True:\n",
    "    ret,frame = cap.read()\n",
    "    \n",
    "    if ret == False:\n",
    "        continue\n",
    "    \n",
    "    gray_frame = cv2.cvtColor(frame,cv2.COLOR_BGR2GRAY)\n",
    "    \n",
    "    faces = face_cascade.detectMultiScale(gray_frame , 1.3, 5)\n",
    "    if len(faces) == 0:\n",
    "        continue\n",
    "        \n",
    "    #faces = sorted(faces,key=lambda f:f[2]*f[3])\n",
    "    \n",
    "    #pick the last face(because it has the largest area)\n",
    "    for face in faces:\n",
    "        #draw bounding box or the rectangle\n",
    "        x,y,w,h = face\n",
    "        \n",
    "        #extract (crop out the required face) : region of interest\n",
    "        offset = 10\n",
    "        face_section = gray_frame[y-offset:y+h+offset, x-offset:x+w+offset]\n",
    "        face_section = cv2.resize(face_section, (100,100))\n",
    "        \n",
    "        #predict\n",
    "        out = knn(train_set,face_section.flatten())\n",
    "        \n",
    "        #Display the output on the screen\n",
    "        pred_name = names[int(out)]\n",
    "        cv2.putText(gray_frame,pred_name,(x,y-10),cv2.FONT_HERSHEY_SIMPLEX,1,(255,0,0),2,cv2.LINE_AA)\n",
    "        cv2.rectangle(gray_frame,(x,y),(x+w,y+h),(0,255,255),2)\n",
    "        \n",
    "        #face_data.append(face_section)\n",
    "        #print(len(face_section))\n",
    "        \n",
    "        \n",
    "        #cv2.imshow(\"Frame\", frame)\n",
    "    cv2.imshow(\"gray_frame\",gray_frame)\n",
    "    \n",
    "    \n",
    "    key_pressed = cv2.waitKey(1) & 0xFF\n",
    "    if key_pressed == ord('q'):\n",
    "        break\n",
    "        \n",
    "cap.release()\n",
    "cv2.destroyAllWindows()"
   ]
  },
  {
   "cell_type": "code",
   "execution_count": null,
   "metadata": {},
   "outputs": [],
   "source": []
  }
 ],
 "metadata": {
  "kernelspec": {
   "display_name": "Python 3",
   "language": "python",
   "name": "python3"
  },
  "language_info": {
   "codemirror_mode": {
    "name": "ipython",
    "version": 3
   },
   "file_extension": ".py",
   "mimetype": "text/x-python",
   "name": "python",
   "nbconvert_exporter": "python",
   "pygments_lexer": "ipython3",
   "version": "3.7.3"
  }
 },
 "nbformat": 4,
 "nbformat_minor": 2
}
